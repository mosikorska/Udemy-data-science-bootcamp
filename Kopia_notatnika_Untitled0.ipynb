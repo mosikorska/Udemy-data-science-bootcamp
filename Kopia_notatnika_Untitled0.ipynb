{
  "nbformat": 4,
  "nbformat_minor": 0,
  "metadata": {
    "colab": {
      "name": "Kopia notatnika Untitled0.ipynb",
      "provenance": [],
      "authorship_tag": "ABX9TyOSKyplyCBg5YBJH/3Vu/va",
      "include_colab_link": true
    },
    "kernelspec": {
      "name": "python3",
      "display_name": "Python 3"
    }
  },
  "cells": [
    {
      "cell_type": "markdown",
      "metadata": {
        "id": "view-in-github",
        "colab_type": "text"
      },
      "source": [
        "<a href=\"https://colab.research.google.com/github/mosikorska/Udemy-data-science-bootcamp/blob/master/Kopia_notatnika_Untitled0.ipynb\" target=\"_parent\"><img src=\"https://colab.research.google.com/assets/colab-badge.svg\" alt=\"Open In Colab\"/></a>"
      ]
    },
    {
      "cell_type": "code",
      "metadata": {
        "id": "lv27rP4A1Em4",
        "colab_type": "code",
        "colab": {
          "base_uri": "https://localhost:8080/",
          "height": 34
        },
        "outputId": "794ba372-78cb-467c-a09b-e67fbcfdc804"
      },
      "source": [
        "print(\"Cześć\")"
      ],
      "execution_count": null,
      "outputs": [
        {
          "output_type": "stream",
          "text": [
            "Cześć\n"
          ],
          "name": "stdout"
        }
      ]
    },
    {
      "cell_type": "code",
      "metadata": {
        "id": "zd10-FyC1dSg",
        "colab_type": "code",
        "colab": {}
      },
      "source": [
        "###Tekst\n"
      ],
      "execution_count": null,
      "outputs": []
    },
    {
      "cell_type": "code",
      "metadata": {
        "id": "RDFl0oyB1sdh",
        "colab_type": "code",
        "colab": {}
      },
      "source": [
        ""
      ],
      "execution_count": null,
      "outputs": []
    },
    {
      "cell_type": "markdown",
      "metadata": {
        "id": "sEguGXdb14DU",
        "colab_type": "text"
      },
      "source": [
        "###Tekst\n"
      ]
    },
    {
      "cell_type": "markdown",
      "metadata": {
        "id": "8PpWYalq2G8u",
        "colab_type": "text"
      },
      "source": [
        "# Nowa sekcja"
      ]
    },
    {
      "cell_type": "code",
      "metadata": {
        "id": "fJx8Qyci15bu",
        "colab_type": "code",
        "colab": {}
      },
      "source": [
        ""
      ],
      "execution_count": null,
      "outputs": []
    },
    {
      "cell_type": "markdown",
      "metadata": {
        "id": "y4zbv5vc16r-",
        "colab_type": "text"
      },
      "source": [
        "Tekst"
      ]
    },
    {
      "cell_type": "code",
      "metadata": {
        "id": "fCKRDKsI17U-",
        "colab_type": "code",
        "colab": {}
      },
      "source": [
        ""
      ],
      "execution_count": null,
      "outputs": []
    }
  ]
}